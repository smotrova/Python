{
 "cells": [
  {
   "cell_type": "markdown",
   "metadata": {},
   "source": [
    "# Virtual Environments for Python"
   ]
  },
  {
   "cell_type": "markdown",
   "metadata": {},
   "source": [
    "### Conda vs. Pip vs. Venv — What’s the Difference?"
   ]
  },
  {
   "cell_type": "markdown",
   "metadata": {},
   "source": [
    "* `pip` is a package manager for Python (only installs Python packages from PyPI). \n",
    "\n",
    "* `venv`  is an environment manager for Python (creates isolated environments for Python development only). \n",
    "\n",
    "* `conda` conda is both a package and environment manager and is language agnostic (can create isolated environments for any language and install packages from repositories like Anaconda Repository and from PyPI by using `pip` in an active Conda environment).\n"
   ]
  },
  {
   "cell_type": "markdown",
   "metadata": {},
   "source": [
    "[Conda enviroments documentation](https://docs.conda.io/projects/conda/en/latest/user-guide/tasks/manage-environments.html#)"
   ]
  },
  {
   "cell_type": "markdown",
   "metadata": {},
   "source": [
    "# Virtual Enviroments with Conda"
   ]
  },
  {
   "cell_type": "markdown",
   "metadata": {},
   "source": [
    "1. Check for version\n",
    "\n",
    "\n",
    "    conda -V\n",
    "    \n",
    "    \n",
    "2. Update Conda\n",
    "\n",
    "\n",
    "    conda update conda\n",
    "    \n",
    "    \n",
    "3. Create new virtual enviroment\n",
    "\n",
    "\n",
    "    conda create --name new_env \n",
    "    \n",
    "    conda create --prefix (/absolute/path/to/envs/new_env )\n",
    "    \n",
    "\n",
    "4. Set up Conda enviroment from a file\n",
    "\n",
    "    conda env create --file enviroment.yml (/absolute/path/to/enviroment.yml)\n",
    "    \n",
    "    \n",
    "5. Conda activate new_env\n",
    "\n",
    "\n",
    "    conda activate new_env\n",
    "    \n",
    "    \n",
    "6. Install all required packages\n",
    "\n",
    "\n",
    "    conda install ...\n",
    "    \n",
    "    pip install ...\n",
    "    \n",
    "    \n",
    "    \n",
    "7. List of installed packages\n",
    "\n",
    "\n",
    "    conda list \n",
    "    \n",
    "    pip freeze\n",
    "    \n",
    "\n",
    "8. save the list of installed packeges in a file\n",
    "\n",
    "\n",
    "     conda env export > enviroment.yml (/absolute/path/to/enviroment.yml)\n",
    "     \n",
    "     pip freeze > requierements.txt (/absolute/path/to/requierements.txt)\n",
    "    \n",
    "    \n",
    "9. list of all virtual enviroments\n",
    "\n",
    "\n",
    "    conda info --envs\n",
    "    \n",
    "    \n",
    "10. Install all packages from requirements.txt\n",
    "\n",
    "\n",
    "    pip install -r requirements.txt\n",
    "    \n",
    "    \n",
    "11.  Remove enviroment\n",
    "\n",
    "\n",
    "    conda remove --name myenv --all  \n",
    "    \n",
    "    \n",
    "    \n",
    "    "
   ]
  }
 ],
 "metadata": {
  "kernelspec": {
   "display_name": "Python 3",
   "language": "python",
   "name": "python3"
  },
  "language_info": {
   "codemirror_mode": {
    "name": "ipython",
    "version": 3
   },
   "file_extension": ".py",
   "mimetype": "text/x-python",
   "name": "python",
   "nbconvert_exporter": "python",
   "pygments_lexer": "ipython3",
   "version": "3.7.5"
  }
 },
 "nbformat": 4,
 "nbformat_minor": 2
}
